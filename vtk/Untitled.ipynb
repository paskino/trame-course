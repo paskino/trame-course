{
 "cells": [
  {
   "cell_type": "code",
   "execution_count": 4,
   "id": "37554b8a-87da-4963-b4c4-dfcfb6b8854c",
   "metadata": {},
   "outputs": [],
   "source": [
    "from remote_rendering_class import Cone\n",
    "\n",
    "app = Cone(\"Server_1\")\n"
   ]
  },
  {
   "cell_type": "code",
   "execution_count": 5,
   "id": "212e588e-ab7e-4e92-ab8e-2743f6628e31",
   "metadata": {},
   "outputs": [
    {
     "data": {
      "text/html": [
       "<iframe id=\"Server_1_trame__template_main\" src=\"http://localhost:63192/index.html?ui=main&reconnect=auto\" style=\"border: none; width: 100%; height: 600px;\"></iframe>"
      ]
     },
     "metadata": {},
     "output_type": "display_data"
    }
   ],
   "source": [
    "await app.ui.ready\n",
    "app.ui"
   ]
  },
  {
   "cell_type": "code",
   "execution_count": null,
   "id": "99625084-b310-45ba-8dc0-b4b1225dc1b0",
   "metadata": {},
   "outputs": [],
   "source": [
    "app.server.name"
   ]
  },
  {
   "cell_type": "code",
   "execution_count": 1,
   "id": "13267927-0c38-4d94-962e-1d10e696988d",
   "metadata": {},
   "outputs": [
    {
     "name": "stderr",
     "output_type": "stream",
     "text": [
      "\n",
      "A module that was compiled using NumPy 1.x cannot be run in\n",
      "NumPy 2.1.1 as it may crash. To support both 1.x and 2.x\n",
      "versions of NumPy, modules must be compiled with NumPy 2.0.\n",
      "Some module may need to rebuild instead e.g. with 'pybind11>=2.12'.\n",
      "\n",
      "If you are a user of the module, the easiest solution will be to\n",
      "downgrade to 'numpy<2' or try to upgrade the affected module.\n",
      "We expect that some modules will need time to support NumPy 2.\n",
      "\n",
      "Traceback (most recent call last):  File \"C:\\Apps\\newminiconda3\\envs\\trame_course\\lib\\runpy.py\", line 196, in _run_module_as_main\n",
      "    return _run_code(code, main_globals, None,\n",
      "  File \"C:\\Apps\\newminiconda3\\envs\\trame_course\\lib\\runpy.py\", line 86, in _run_code\n",
      "    exec(code, run_globals)\n",
      "  File \"C:\\Apps\\newminiconda3\\envs\\trame_course\\lib\\site-packages\\ipykernel_launcher.py\", line 18, in <module>\n",
      "    app.launch_new_instance()\n",
      "  File \"C:\\Apps\\newminiconda3\\envs\\trame_course\\lib\\site-packages\\traitlets\\config\\application.py\", line 1075, in launch_instance\n",
      "    app.start()\n",
      "  File \"C:\\Apps\\newminiconda3\\envs\\trame_course\\lib\\site-packages\\ipykernel\\kernelapp.py\", line 739, in start\n",
      "    self.io_loop.start()\n",
      "  File \"C:\\Apps\\newminiconda3\\envs\\trame_course\\lib\\site-packages\\tornado\\platform\\asyncio.py\", line 205, in start\n",
      "    self.asyncio_loop.run_forever()\n",
      "  File \"C:\\Apps\\newminiconda3\\envs\\trame_course\\lib\\asyncio\\base_events.py\", line 603, in run_forever\n",
      "    self._run_once()\n",
      "  File \"C:\\Apps\\newminiconda3\\envs\\trame_course\\lib\\asyncio\\base_events.py\", line 1909, in _run_once\n",
      "    handle._run()\n",
      "  File \"C:\\Apps\\newminiconda3\\envs\\trame_course\\lib\\asyncio\\events.py\", line 80, in _run\n",
      "    self._context.run(self._callback, *self._args)\n",
      "  File \"C:\\Apps\\newminiconda3\\envs\\trame_course\\lib\\site-packages\\ipykernel\\kernelbase.py\", line 545, in dispatch_queue\n",
      "    await self.process_one()\n",
      "  File \"C:\\Apps\\newminiconda3\\envs\\trame_course\\lib\\site-packages\\ipykernel\\kernelbase.py\", line 534, in process_one\n",
      "    await dispatch(*args)\n",
      "  File \"C:\\Apps\\newminiconda3\\envs\\trame_course\\lib\\site-packages\\ipykernel\\kernelbase.py\", line 437, in dispatch_shell\n",
      "    await result\n",
      "  File \"C:\\Apps\\newminiconda3\\envs\\trame_course\\lib\\site-packages\\ipykernel\\ipkernel.py\", line 362, in execute_request\n",
      "    await super().execute_request(stream, ident, parent)\n",
      "  File \"C:\\Apps\\newminiconda3\\envs\\trame_course\\lib\\site-packages\\ipykernel\\kernelbase.py\", line 778, in execute_request\n",
      "    reply_content = await reply_content\n",
      "  File \"C:\\Apps\\newminiconda3\\envs\\trame_course\\lib\\site-packages\\ipykernel\\ipkernel.py\", line 449, in do_execute\n",
      "    res = shell.run_cell(\n",
      "  File \"C:\\Apps\\newminiconda3\\envs\\trame_course\\lib\\site-packages\\ipykernel\\zmqshell.py\", line 549, in run_cell\n",
      "    return super().run_cell(*args, **kwargs)\n",
      "  File \"C:\\Apps\\newminiconda3\\envs\\trame_course\\lib\\site-packages\\IPython\\core\\interactiveshell.py\", line 3075, in run_cell\n",
      "    result = self._run_cell(\n",
      "  File \"C:\\Apps\\newminiconda3\\envs\\trame_course\\lib\\site-packages\\IPython\\core\\interactiveshell.py\", line 3130, in _run_cell\n",
      "    result = runner(coro)\n",
      "  File \"C:\\Apps\\newminiconda3\\envs\\trame_course\\lib\\site-packages\\IPython\\core\\async_helpers.py\", line 128, in _pseudo_sync_runner\n",
      "    coro.send(None)\n",
      "  File \"C:\\Apps\\newminiconda3\\envs\\trame_course\\lib\\site-packages\\IPython\\core\\interactiveshell.py\", line 3334, in run_cell_async\n",
      "    has_raised = await self.run_ast_nodes(code_ast.body, cell_name,\n",
      "  File \"C:\\Apps\\newminiconda3\\envs\\trame_course\\lib\\site-packages\\IPython\\core\\interactiveshell.py\", line 3517, in run_ast_nodes\n",
      "    if await self.run_code(code, result, async_=asy):\n",
      "  File \"C:\\Apps\\newminiconda3\\envs\\trame_course\\lib\\site-packages\\IPython\\core\\interactiveshell.py\", line 3577, in run_code\n",
      "    exec(code_obj, self.user_global_ns, self.user_ns)\n",
      "  File \"C:\\Users\\ofn77899\\AppData\\Local\\Temp\\ipykernel_33876\\1050398121.py\", line 1, in <module>\n",
      "    from cilviewer_jupyter import iviewer\n",
      "  File \"C:\\Users\\ofn77899\\Dev\\trame-course\\trame-course\\vtk\\cilviewer_jupyter.py\", line 10, in <module>\n",
      "    from ccpi.viewer import CILViewer2D\n",
      "  File \"C:\\Apps\\newminiconda3\\envs\\trame_course\\lib\\site-packages\\ccpi\\viewer\\__init__.py\", line 19, in <module>\n",
      "    from .CILViewer2D import CILViewer2D as viewer2D\n",
      "  File \"C:\\Apps\\newminiconda3\\envs\\trame_course\\lib\\site-packages\\ccpi\\viewer\\CILViewer2D.py\", line 25, in <module>\n",
      "    from ccpi.viewer.widgets import cilviewerBoxWidget, SliceSliderRepresentation, SliderCallback\n",
      "  File \"C:\\Apps\\newminiconda3\\envs\\trame_course\\lib\\site-packages\\ccpi\\viewer\\widgets\\__init__.py\", line 1, in <module>\n",
      "    from .box_widgets import cilviewerBoxWidget, cilviewerLineWidget\n",
      "  File \"C:\\Apps\\newminiconda3\\envs\\trame_course\\lib\\site-packages\\ccpi\\viewer\\widgets\\box_widgets.py\", line 3, in <module>\n",
      "    from eqt.ui.SessionDialogs import WarningDialog\n",
      "  File \"C:\\Apps\\newminiconda3\\envs\\trame_course\\lib\\site-packages\\eqt\\ui\\__init__.py\", line 1, in <module>\n",
      "    from .UIFormWidget import UIFormFactory # isort:skip (prereq for FormDialog)\n",
      "  File \"C:\\Apps\\newminiconda3\\envs\\trame_course\\lib\\site-packages\\eqt\\ui\\UIFormWidget.py\", line 3, in <module>\n",
      "    from PySide2 import QtWidgets\n",
      "  File \"C:\\Apps\\newminiconda3\\envs\\trame_course\\lib\\site-packages\\PySide2\\__init__.py\", line 107, in <module>\n",
      "    _setupQtDirectories()\n",
      "  File \"C:\\Apps\\newminiconda3\\envs\\trame_course\\lib\\site-packages\\PySide2\\__init__.py\", line 58, in _setupQtDirectories\n",
      "    import shiboken2\n",
      "  File \"C:\\Apps\\newminiconda3\\envs\\trame_course\\lib\\site-packages\\shiboken2\\__init__.py\", line 27, in <module>\n",
      "    from .shiboken2 import *\n"
     ]
    },
    {
     "name": "stdout",
     "output_type": "stream",
     "text": [
      "Auto range for volume:  0.0 1724.0\n"
     ]
    }
   ],
   "source": [
    "from cilviewer_jupyter import iviewer\n",
    "import vtk\n",
    "\n",
    "reader = vtk.vtkMetaImageReader()\n",
    "reader.SetFileName(\"head_uncompressed.mha\")\n",
    "reader.Update()\n",
    "\n",
    "iv = iviewer()\n",
    "iv.setInput(reader.GetOutput())"
   ]
  },
  {
   "cell_type": "code",
   "execution_count": 2,
   "id": "75a40070-5fa2-40e5-9b98-e714281e4ac3",
   "metadata": {},
   "outputs": [
    {
     "data": {
      "text/html": [
       "<iframe id=\"trame_trame__template_main\" src=\"http://localhost:56050/index.html?ui=main&reconnect=auto\" style=\"border: none; width: 100%; height: 600px;\"></iframe>"
      ]
     },
     "metadata": {},
     "output_type": "display_data"
    }
   ],
   "source": [
    "await iv.ui.ready\n",
    "iv.ui"
   ]
  },
  {
   "cell_type": "code",
   "execution_count": null,
   "id": "e91f0425-ddfb-4adc-a23f-d02ead3911d7",
   "metadata": {},
   "outputs": [],
   "source": [
    "v = CILViewer2D()"
   ]
  },
  {
   "cell_type": "code",
   "execution_count": null,
   "id": "5efd4af5-6664-4602-90ae-a05f65aa8951",
   "metadata": {},
   "outputs": [],
   "source": []
  }
 ],
 "metadata": {
  "kernelspec": {
   "display_name": "Python 3 (ipykernel)",
   "language": "python",
   "name": "python3"
  },
  "language_info": {
   "codemirror_mode": {
    "name": "ipython",
    "version": 3
   },
   "file_extension": ".py",
   "mimetype": "text/x-python",
   "name": "python",
   "nbconvert_exporter": "python",
   "pygments_lexer": "ipython3",
   "version": "3.10.15"
  }
 },
 "nbformat": 4,
 "nbformat_minor": 5
}
